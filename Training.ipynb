{
 "cells": [
  {
   "cell_type": "code",
   "execution_count": 1,
   "metadata": {},
   "outputs": [
    {
     "name": "stderr",
     "output_type": "stream",
     "text": [
      "d:\\Anaconda3\\envs\\built-nerf\\lib\\site-packages\\tqdm\\auto.py:21: TqdmWarning: IProgress not found. Please update jupyter and ipywidgets. See https://ipywidgets.readthedocs.io/en/stable/user_install.html\n",
      "  from .autonotebook import tqdm as notebook_tqdm\n"
     ]
    }
   ],
   "source": [
    "import torch\n",
    "from tqdm import tqdm\n",
    "import torch.nn as nn\n",
    "import numpy as np\n",
    "import matplotlib.pyplot as plt\n",
    "from datetime import datetime\n",
    "import torch.optim as optim\n",
    "from utils import sample_along_rays,volume_rendering,psnr,intrinsic_matrix\n",
    "from eval import render_images\n",
    "from dataset import load_data_numpy,RaysData\n",
    "from model import NeRF_Base\n",
    "from train import train\n"
   ]
  },
  {
   "cell_type": "code",
   "execution_count": 2,
   "metadata": {},
   "outputs": [
    {
     "data": {
      "text/plain": [
       "'cuda'"
      ]
     },
     "execution_count": 2,
     "metadata": {},
     "output_type": "execute_result"
    }
   ],
   "source": [
    "device = 'cuda' if torch.cuda.is_available() else 'cpu'\n",
    "device"
   ]
  },
  {
   "cell_type": "code",
   "execution_count": 3,
   "metadata": {},
   "outputs": [],
   "source": [
    "images_train, c2ws_train, images_val, c2ws_val, c2ws_test, focal = load_data_numpy('lego_200x200.npz')"
   ]
  },
  {
   "cell_type": "code",
   "execution_count": 4,
   "metadata": {},
   "outputs": [],
   "source": [
    "images_train = torch.tensor(images_train).float().to(device)\n",
    "c2ws_train = torch.tensor(c2ws_train).float().to(device)\n",
    "images_val = torch.tensor(images_val).float().to(device)\n",
    "c2ws_val = torch.tensor(c2ws_val).float().to(device)\n",
    "c2ws_test = torch.tensor(c2ws_test).float().to(device)\n",
    "focal = torch.tensor(focal).float().to(device)\n",
    "K_train = intrinsic_matrix(focal.item(), focal.item(), images_train.shape[1] / 2, images_train.shape[2] / 2).unsqueeze(0).repeat(images_train.shape[0], 1, 1).to(device)\n",
    "K_val = intrinsic_matrix(focal.item(), focal.item(), images_val.shape[1] / 2, images_val.shape[2] / 2).unsqueeze(0).repeat(images_val.shape[0], 1, 1).to(device)\n",
    "K_test = intrinsic_matrix(focal.item(), focal.item(), images_val.shape[1] / 2, images_val.shape[2] / 2).unsqueeze(0).repeat(c2ws_test.shape[0], 1, 1).to(device)"
   ]
  },
  {
   "cell_type": "code",
   "execution_count": 5,
   "metadata": {},
   "outputs": [
    {
     "name": "stdout",
     "output_type": "stream",
     "text": [
      "ray_o torch.Size([32, 3])\n",
      "rays_d torch.Size([32, 3])\n",
      "t torch.Size([64])\n",
      "points torch.Size([64, 32, 3])\n",
      "Training PSNR: 12.62356865158938\n",
      "ray_o torch.Size([32, 3])\n",
      "rays_d torch.Size([32, 3])\n",
      "t torch.Size([64])\n",
      "points torch.Size([64, 32, 3])\n",
      "Training PSNR: 10.393073334336103\n",
      "ray_o torch.Size([32, 3])\n",
      "rays_d torch.Size([32, 3])\n",
      "t torch.Size([64])\n",
      "points torch.Size([64, 32, 3])\n",
      "Training PSNR: 10.928579713291915\n",
      "ray_o torch.Size([32, 3])\n",
      "rays_d torch.Size([32, 3])\n",
      "t torch.Size([64])\n",
      "points torch.Size([64, 32, 3])\n",
      "Training PSNR: 11.894772248508696\n",
      "ray_o torch.Size([32, 3])\n",
      "rays_d torch.Size([32, 3])\n",
      "t torch.Size([64])\n",
      "points torch.Size([64, 32, 3])\n",
      "Training PSNR: 12.231493716007977\n",
      "ray_o torch.Size([32, 3])\n",
      "rays_d torch.Size([32, 3])\n",
      "t torch.Size([64])\n",
      "points torch.Size([64, 32, 3])\n",
      "Training PSNR: 13.70380789790552\n",
      "ray_o torch.Size([32, 3])\n",
      "rays_d torch.Size([32, 3])\n",
      "t torch.Size([64])\n",
      "points torch.Size([64, 32, 3])\n",
      "Training PSNR: 11.611106862064947\n",
      "ray_o torch.Size([32, 3])\n",
      "rays_d torch.Size([32, 3])\n",
      "t torch.Size([64])\n",
      "points torch.Size([64, 32, 3])\n",
      "Training PSNR: 10.885758250600981\n",
      "ray_o torch.Size([32, 3])\n",
      "rays_d torch.Size([32, 3])\n",
      "t torch.Size([64])\n",
      "points torch.Size([64, 32, 3])\n",
      "Training PSNR: 10.659999743017764\n",
      "ray_o torch.Size([32, 3])\n",
      "rays_d torch.Size([32, 3])\n",
      "t torch.Size([64])\n",
      "points torch.Size([64, 32, 3])\n",
      "Training PSNR: 10.239405440068172\n",
      "ray_o torch.Size([32, 3])\n",
      "rays_d torch.Size([32, 3])\n",
      "t torch.Size([64])\n",
      "points torch.Size([64, 32, 3])\n",
      "Training PSNR: 13.156731709140086\n",
      "ray_o torch.Size([32, 3])\n",
      "rays_d torch.Size([32, 3])\n",
      "t torch.Size([64])\n",
      "points torch.Size([64, 32, 3])\n",
      "Training PSNR: 11.351094897153187\n",
      "ray_o torch.Size([32, 3])\n",
      "rays_d torch.Size([32, 3])\n",
      "t torch.Size([64])\n",
      "points torch.Size([64, 32, 3])\n",
      "Training PSNR: 10.506251831579089\n",
      "ray_o torch.Size([32, 3])\n",
      "rays_d torch.Size([32, 3])\n",
      "t torch.Size([64])\n",
      "points torch.Size([64, 32, 3])\n",
      "Training PSNR: 12.071143384234762\n",
      "ray_o torch.Size([32, 3])\n",
      "rays_d torch.Size([32, 3])\n",
      "t torch.Size([64])\n",
      "points torch.Size([64, 32, 3])\n",
      "Training PSNR: 12.267660282240751\n",
      "ray_o torch.Size([32, 3])\n",
      "rays_d torch.Size([32, 3])\n",
      "t torch.Size([64])\n",
      "points torch.Size([64, 32, 3])\n",
      "Training PSNR: 11.654124634732819\n",
      "ray_o torch.Size([32, 3])\n",
      "rays_d torch.Size([32, 3])\n",
      "t torch.Size([64])\n",
      "points torch.Size([64, 32, 3])\n",
      "Training PSNR: 10.423323520840775\n",
      "ray_o torch.Size([32, 3])\n",
      "rays_d torch.Size([32, 3])\n",
      "t torch.Size([64])\n",
      "points torch.Size([64, 32, 3])\n",
      "Training PSNR: 12.50026555959948\n",
      "ray_o torch.Size([32, 3])\n",
      "rays_d torch.Size([32, 3])\n",
      "t torch.Size([64])\n",
      "points torch.Size([64, 32, 3])\n",
      "Training PSNR: 12.951764796696231\n",
      "ray_o torch.Size([32, 3])\n",
      "rays_d torch.Size([32, 3])\n",
      "t torch.Size([64])\n",
      "points torch.Size([64, 32, 3])\n",
      "Training PSNR: 12.849192854438273\n",
      "ray_o torch.Size([32, 3])\n",
      "rays_d torch.Size([32, 3])\n",
      "t torch.Size([64])\n",
      "points torch.Size([64, 32, 3])\n",
      "Training PSNR: 13.127294008154308\n",
      "ray_o torch.Size([32, 3])\n",
      "rays_d torch.Size([32, 3])\n",
      "t torch.Size([64])\n",
      "points torch.Size([64, 32, 3])\n",
      "Training PSNR: 12.511327243637094\n",
      "ray_o torch.Size([32, 3])\n",
      "rays_d torch.Size([32, 3])\n",
      "t torch.Size([64])\n",
      "points torch.Size([64, 32, 3])\n",
      "Training PSNR: 12.540389123848874\n",
      "ray_o torch.Size([32, 3])\n",
      "rays_d torch.Size([32, 3])\n",
      "t torch.Size([64])\n",
      "points torch.Size([64, 32, 3])\n",
      "Training PSNR: 11.645584098885003\n",
      "ray_o torch.Size([32, 3])\n",
      "rays_d torch.Size([32, 3])\n",
      "t torch.Size([64])\n",
      "points torch.Size([64, 32, 3])\n",
      "Training PSNR: 12.246675666032584\n",
      "t torch.Size([64])\n"
     ]
    }
   ],
   "source": [
    "model = NeRF_Base().to(device)\n",
    "optimizer = optim.Adam(model.parameters(),lr= 10e-4)\n",
    "criterion = nn.MSELoss()\n",
    "batch_size = 32\n",
    "num_epochs = 100\n",
    "train_loader = RaysData(images_train,K_train,c2ws_train)\n",
    "val_loader = RaysData(images_val, K_val, c2ws_val)\n",
    "test_loader = RaysData(images_train[:60], K_test, c2ws_test)\n",
    "train(model, train_loader, val_loader, test_loader, optimizer, criterion, num_epochs=num_epochs, batch_size=batch_size, device=device)"
   ]
  },
  {
   "cell_type": "code",
   "execution_count": 9,
   "metadata": {},
   "outputs": [
    {
     "name": "stdout",
     "output_type": "stream",
     "text": [
      "torch.Size([64, 1, 1])\n",
      "torch.Size([32, 3])\n",
      "torch.Size([64, 32, 3])\n"
     ]
    }
   ],
   "source": [
    "a = torch.randn(64).unsqueeze(-1).unsqueeze(-1)\n",
    "print(a.shape)\n",
    "b = torch.randn((32,3))\n",
    "print(b.shape)\n",
    "c = a*b\n",
    "print(c.shape)"
   ]
  },
  {
   "cell_type": "code",
   "execution_count": null,
   "metadata": {},
   "outputs": [
    {
     "data": {
      "text/plain": [
       "tensor([[1., 4.],\n",
       "        [2., 5.],\n",
       "        [3., 6.]])"
      ]
     },
     "execution_count": 53,
     "metadata": {},
     "output_type": "execute_result"
    }
   ],
   "source": [
    "a = torch.Tensor([1,2,3])\n",
    "b = torch.Tensor([4,5,6])\n",
    "c = torch.stack((a,b),dim=-1)\n",
    "c"
   ]
  },
  {
   "cell_type": "code",
   "execution_count": null,
   "metadata": {},
   "outputs": [],
   "source": []
  }
 ],
 "metadata": {
  "kernelspec": {
   "display_name": "built-nerf",
   "language": "python",
   "name": "python3"
  },
  "language_info": {
   "codemirror_mode": {
    "name": "ipython",
    "version": 3
   },
   "file_extension": ".py",
   "mimetype": "text/x-python",
   "name": "python",
   "nbconvert_exporter": "python",
   "pygments_lexer": "ipython3",
   "version": "3.8.18"
  }
 },
 "nbformat": 4,
 "nbformat_minor": 2
}
